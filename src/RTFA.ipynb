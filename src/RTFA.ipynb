{
 "cells": [
  {
   "cell_type": "markdown",
   "metadata": {},
   "source": [
    "# Rotten Tomatoes Freshness Analyzer\n",
    "\n",
    "**Progetto d'Esame**\n",
    "\n",
    "**Corso di Programmazione di Applicazioni Data Intensive**\n",
    "\n",
    "Laurea in Ingegneria e Scienze Informatiche  \n",
    "\n",
    "DISI - Università di Bologna, Cesena\n",
    "\n",
    "Studenti:\n",
    "- Luca Giuliani, 0000792513, luca.giuliani10@studio.unibo.it\n",
    "- Filippo Pilutti, 0000793420, filippo.pilutti@studio.unibo.it"
   ]
  },
  {
   "cell_type": "markdown",
   "metadata": {},
   "source": [
    "## 0. Introduzione\n",
    "\n",
    "Lo scopo dell'applicazione è di stabilire se, data la recensione di un film presente nel sito **Rotten Tomatoes**, tale recensione è **fresh** o **rotten**, ovvero se il film è considerato o meno positivo da chi ha scritto la recensione.\n",
    "Per il training del sistema si è utilizzato un dataset di recensioni reperito da **Kaggle** al seguente link:\n",
    "\n",
    "https://www.kaggle.com/rpnuser8182/rotten-tomatoes"
   ]
  },
  {
   "cell_type": "markdown",
   "metadata": {},
   "source": [
    "### Setup Librerie\n",
    "Durante il progetto, si farà largo uso delle seguenti librerie:\n",
    "- **NumPy**, per l'utilizzo di vettori e matrici e le relative operazioni matematiche\n",
    "- **Pandas**, per la struttura dei dati tabulari sotto forma di dataframe facilmente accessibili e comprensibili\n",
    "- **Matplotlib**, per la visualizzazione sotto forma di grafico delle caratteristiche del dataset\n",
    "- **Ntlk**, per l'elaborazione dei dati in linguaggio naturale dei testi delle canzoni"
   ]
  },
  {
   "cell_type": "code",
   "execution_count": 1,
   "metadata": {},
   "outputs": [],
   "source": [
    "import numpy as np\n",
    "import pandas as pd\n",
    "import matplotlib.pyplot as plt\n",
    "import nltk\n",
    "%matplotlib inline"
   ]
  },
  {
   "cell_type": "markdown",
   "metadata": {},
   "source": [
    "## 1/2. Analisi Dataset e Standardizzazione"
   ]
  },
  {
   "cell_type": "markdown",
   "metadata": {},
   "source": [
    "### Importazione"
   ]
  },
  {
   "cell_type": "markdown",
   "metadata": {},
   "source": [
    "Nel caso il dataset non fosse presente, è possibile scaricarlo direttamente da kaggle mettendo le proprie credenziali e facendo uso del modulo 'kaggle' che contiene delle API per il download automatico dei dati.\n",
    "Il modulo può essere installato con il comando: `pip install kaggle --upgrade`"
   ]
  },
  {
   "cell_type": "code",
   "execution_count": 2,
   "metadata": {},
   "outputs": [],
   "source": [
    "import os.path\n",
    "if not os.path.exists('reviews.tsv'):\n",
    "    import kaggle\n",
    "    kaggle.api.authenticate()\n",
    "    kaggle.api.dataset_download_files('rpnuser8182/rotten-tomatoes', unzip=True)\n",
    "original_dataset = pd.read_csv('reviews.tsv', sep='\\t', encoding = 'unicode_escape')"
   ]
  },
  {
   "cell_type": "markdown",
   "metadata": {},
   "source": [
    "### Descrizione dei Dati"
   ]
  },
  {
   "cell_type": "code",
   "execution_count": 3,
   "metadata": {},
   "outputs": [
    {
     "data": {
      "text/plain": [
       "(54432, 8)"
      ]
     },
     "execution_count": 3,
     "metadata": {},
     "output_type": "execute_result"
    }
   ],
   "source": [
    "original_dataset.shape"
   ]
  },
  {
   "cell_type": "code",
   "execution_count": 4,
   "metadata": {},
   "outputs": [
    {
     "data": {
      "text/html": [
       "<div>\n",
       "<style scoped>\n",
       "    .dataframe tbody tr th:only-of-type {\n",
       "        vertical-align: middle;\n",
       "    }\n",
       "\n",
       "    .dataframe tbody tr th {\n",
       "        vertical-align: top;\n",
       "    }\n",
       "\n",
       "    .dataframe thead th {\n",
       "        text-align: right;\n",
       "    }\n",
       "</style>\n",
       "<table border=\"1\" class=\"dataframe\">\n",
       "  <thead>\n",
       "    <tr style=\"text-align: right;\">\n",
       "      <th></th>\n",
       "      <th>id</th>\n",
       "      <th>review</th>\n",
       "      <th>rating</th>\n",
       "      <th>fresh</th>\n",
       "      <th>critic</th>\n",
       "      <th>top_critic</th>\n",
       "      <th>publisher</th>\n",
       "      <th>date</th>\n",
       "    </tr>\n",
       "  </thead>\n",
       "  <tbody>\n",
       "    <tr>\n",
       "      <th>0</th>\n",
       "      <td>3</td>\n",
       "      <td>A distinctly gallows take on contemporary fina...</td>\n",
       "      <td>3/5</td>\n",
       "      <td>fresh</td>\n",
       "      <td>PJ Nabarro</td>\n",
       "      <td>0</td>\n",
       "      <td>Patrick Nabarro</td>\n",
       "      <td>November 10, 2018</td>\n",
       "    </tr>\n",
       "    <tr>\n",
       "      <th>1</th>\n",
       "      <td>3</td>\n",
       "      <td>It's an allegory in search of a meaning that n...</td>\n",
       "      <td>NaN</td>\n",
       "      <td>rotten</td>\n",
       "      <td>Annalee Newitz</td>\n",
       "      <td>0</td>\n",
       "      <td>io9.com</td>\n",
       "      <td>May 23, 2018</td>\n",
       "    </tr>\n",
       "    <tr>\n",
       "      <th>2</th>\n",
       "      <td>3</td>\n",
       "      <td>... life lived in a bubble in financial dealin...</td>\n",
       "      <td>NaN</td>\n",
       "      <td>fresh</td>\n",
       "      <td>Sean Axmaker</td>\n",
       "      <td>0</td>\n",
       "      <td>Stream on Demand</td>\n",
       "      <td>January 4, 2018</td>\n",
       "    </tr>\n",
       "    <tr>\n",
       "      <th>3</th>\n",
       "      <td>3</td>\n",
       "      <td>Continuing along a line introduced in last yea...</td>\n",
       "      <td>NaN</td>\n",
       "      <td>fresh</td>\n",
       "      <td>Daniel Kasman</td>\n",
       "      <td>0</td>\n",
       "      <td>MUBI</td>\n",
       "      <td>November 16, 2017</td>\n",
       "    </tr>\n",
       "    <tr>\n",
       "      <th>4</th>\n",
       "      <td>3</td>\n",
       "      <td>... a perverse twist on neorealism...</td>\n",
       "      <td>NaN</td>\n",
       "      <td>fresh</td>\n",
       "      <td>NaN</td>\n",
       "      <td>0</td>\n",
       "      <td>Cinema Scope</td>\n",
       "      <td>October 12, 2017</td>\n",
       "    </tr>\n",
       "    <tr>\n",
       "      <th>54427</th>\n",
       "      <td>2000</td>\n",
       "      <td>The real charm of this trifle is the deadpan c...</td>\n",
       "      <td>NaN</td>\n",
       "      <td>fresh</td>\n",
       "      <td>Laura Sinagra</td>\n",
       "      <td>1</td>\n",
       "      <td>Village Voice</td>\n",
       "      <td>September 24, 2002</td>\n",
       "    </tr>\n",
       "    <tr>\n",
       "      <th>54428</th>\n",
       "      <td>2000</td>\n",
       "      <td>NaN</td>\n",
       "      <td>1/5</td>\n",
       "      <td>rotten</td>\n",
       "      <td>Michael Szymanski</td>\n",
       "      <td>0</td>\n",
       "      <td>Zap2it.com</td>\n",
       "      <td>September 21, 2005</td>\n",
       "    </tr>\n",
       "    <tr>\n",
       "      <th>54429</th>\n",
       "      <td>2000</td>\n",
       "      <td>NaN</td>\n",
       "      <td>2/5</td>\n",
       "      <td>rotten</td>\n",
       "      <td>Emanuel Levy</td>\n",
       "      <td>0</td>\n",
       "      <td>EmanuelLevy.Com</td>\n",
       "      <td>July 17, 2005</td>\n",
       "    </tr>\n",
       "    <tr>\n",
       "      <th>54430</th>\n",
       "      <td>2000</td>\n",
       "      <td>NaN</td>\n",
       "      <td>2.5/5</td>\n",
       "      <td>rotten</td>\n",
       "      <td>Christopher Null</td>\n",
       "      <td>0</td>\n",
       "      <td>Filmcritic.com</td>\n",
       "      <td>September 7, 2003</td>\n",
       "    </tr>\n",
       "    <tr>\n",
       "      <th>54431</th>\n",
       "      <td>2000</td>\n",
       "      <td>NaN</td>\n",
       "      <td>3/5</td>\n",
       "      <td>fresh</td>\n",
       "      <td>Nicolas Lacroix</td>\n",
       "      <td>0</td>\n",
       "      <td>Showbizz.net</td>\n",
       "      <td>November 12, 2002</td>\n",
       "    </tr>\n",
       "  </tbody>\n",
       "</table>\n",
       "</div>"
      ],
      "text/plain": [
       "         id                                             review rating   fresh  \\\n",
       "0         3  A distinctly gallows take on contemporary fina...    3/5   fresh   \n",
       "1         3  It's an allegory in search of a meaning that n...    NaN  rotten   \n",
       "2         3  ... life lived in a bubble in financial dealin...    NaN   fresh   \n",
       "3         3  Continuing along a line introduced in last yea...    NaN   fresh   \n",
       "4         3             ... a perverse twist on neorealism...     NaN   fresh   \n",
       "54427  2000  The real charm of this trifle is the deadpan c...    NaN   fresh   \n",
       "54428  2000                                                NaN    1/5  rotten   \n",
       "54429  2000                                                NaN    2/5  rotten   \n",
       "54430  2000                                                NaN  2.5/5  rotten   \n",
       "54431  2000                                                NaN    3/5   fresh   \n",
       "\n",
       "                  critic  top_critic         publisher                date  \n",
       "0             PJ Nabarro           0   Patrick Nabarro   November 10, 2018  \n",
       "1         Annalee Newitz           0           io9.com        May 23, 2018  \n",
       "2           Sean Axmaker           0  Stream on Demand     January 4, 2018  \n",
       "3          Daniel Kasman           0              MUBI   November 16, 2017  \n",
       "4                    NaN           0      Cinema Scope    October 12, 2017  \n",
       "54427      Laura Sinagra           1     Village Voice  September 24, 2002  \n",
       "54428  Michael Szymanski           0        Zap2it.com  September 21, 2005  \n",
       "54429       Emanuel Levy           0   EmanuelLevy.Com       July 17, 2005  \n",
       "54430   Christopher Null           0    Filmcritic.com   September 7, 2003  \n",
       "54431    Nicolas Lacroix           0      Showbizz.net   November 12, 2002  "
      ]
     },
     "execution_count": 4,
     "metadata": {},
     "output_type": "execute_result"
    }
   ],
   "source": [
    "pd.concat([original_dataset.head(5), original_dataset.tail(5)])"
   ]
  },
  {
   "cell_type": "markdown",
   "metadata": {},
   "source": [
    "Il **dataset** è popolato con **54432 recensioni** di film prese dal sito **Rotten Tomatoes**.\n",
    "\n",
    "Dato che è possibile che alcune siano ripetute, viene tenuta una sola istanza per ognuna di esse."
   ]
  },
  {
   "cell_type": "code",
   "execution_count": 5,
   "metadata": {},
   "outputs": [
    {
     "data": {
      "text/plain": [
       "(54423, 8)"
      ]
     },
     "execution_count": 5,
     "metadata": {},
     "output_type": "execute_result"
    }
   ],
   "source": [
    "original_dataset.drop_duplicates(keep = 'first', inplace = True)\n",
    "original_dataset.shape"
   ]
  },
  {
   "cell_type": "markdown",
   "metadata": {},
   "source": [
    "Rimangono **54423 recensioni**, ognuna delle quali contiene informazioni memorizzate in **8 colonne**:\n",
    "1. **id**, ovvero l'identificatore del film (i dati del film sono infatti mantenuti in un'altro dataset)\n",
    "2. **review**, ovvero la recensione del film\n",
    "3. **rating**, ovvero un voto della recensione, che tuttavia è espresso in scale non standardizzate e, spesso, non è nemmeno presente, rendendo di fatto questa colonna inutile per il sistema di regressione\n",
    "4. **fresh**, ovvero se il film è complessivamente positivo o meno\n",
    "5. **critic**, ovvero il nome del critico\n",
    "6. **top critic**, ovvero se il critico è considerato top critic di Rotten Tomatoes\n",
    "7. **publisher**, ovvero chi ha pubblicato la recensione\n",
    "8. **date**, ovvero la data della recension\n",
    "\n",
    "Per quanto riguarda lo scopo del nostro sistema, le colonne importanti sono la 2 (**reviews**), ovvero la variabile da analizzare, e la 4 (**fresh**), ovvero la variabile da predire."
   ]
  },
  {
   "cell_type": "markdown",
   "metadata": {},
   "source": [
    "### Estrazione Feature Utili"
   ]
  },
  {
   "cell_type": "markdown",
   "metadata": {},
   "source": [
    "Per prima cosa, è necessario creare un **nuovo dataset**, sottoinsieme del precedente, che contenga soltanto le colonne utili, e scartiamo innanzitutto i valori **nan** di entrambe le colonne."
   ]
  },
  {
   "cell_type": "code",
   "execution_count": 6,
   "metadata": {},
   "outputs": [
    {
     "data": {
      "text/html": [
       "<div>\n",
       "<style scoped>\n",
       "    .dataframe tbody tr th:only-of-type {\n",
       "        vertical-align: middle;\n",
       "    }\n",
       "\n",
       "    .dataframe tbody tr th {\n",
       "        vertical-align: top;\n",
       "    }\n",
       "\n",
       "    .dataframe thead th {\n",
       "        text-align: right;\n",
       "    }\n",
       "</style>\n",
       "<table border=\"1\" class=\"dataframe\">\n",
       "  <thead>\n",
       "    <tr style=\"text-align: right;\">\n",
       "      <th></th>\n",
       "      <th>review</th>\n",
       "      <th>fresh</th>\n",
       "    </tr>\n",
       "  </thead>\n",
       "  <tbody>\n",
       "    <tr>\n",
       "      <th>0</th>\n",
       "      <td>A distinctly gallows take on contemporary fina...</td>\n",
       "      <td>fresh</td>\n",
       "    </tr>\n",
       "    <tr>\n",
       "      <th>1</th>\n",
       "      <td>It's an allegory in search of a meaning that n...</td>\n",
       "      <td>rotten</td>\n",
       "    </tr>\n",
       "    <tr>\n",
       "      <th>2</th>\n",
       "      <td>... life lived in a bubble in financial dealin...</td>\n",
       "      <td>fresh</td>\n",
       "    </tr>\n",
       "    <tr>\n",
       "      <th>3</th>\n",
       "      <td>Continuing along a line introduced in last yea...</td>\n",
       "      <td>fresh</td>\n",
       "    </tr>\n",
       "    <tr>\n",
       "      <th>4</th>\n",
       "      <td>... a perverse twist on neorealism...</td>\n",
       "      <td>fresh</td>\n",
       "    </tr>\n",
       "    <tr>\n",
       "      <th>54423</th>\n",
       "      <td>Despite the title, Wasabi isn't so spicy.</td>\n",
       "      <td>rotten</td>\n",
       "    </tr>\n",
       "    <tr>\n",
       "      <th>54424</th>\n",
       "      <td>Dawdles and drags when it should pop; it doesn...</td>\n",
       "      <td>rotten</td>\n",
       "    </tr>\n",
       "    <tr>\n",
       "      <th>54425</th>\n",
       "      <td>Despite Besson's high-profile name being Wasab...</td>\n",
       "      <td>fresh</td>\n",
       "    </tr>\n",
       "    <tr>\n",
       "      <th>54426</th>\n",
       "      <td>The film lapses too often into sugary sentimen...</td>\n",
       "      <td>rotten</td>\n",
       "    </tr>\n",
       "    <tr>\n",
       "      <th>54427</th>\n",
       "      <td>The real charm of this trifle is the deadpan c...</td>\n",
       "      <td>fresh</td>\n",
       "    </tr>\n",
       "  </tbody>\n",
       "</table>\n",
       "</div>"
      ],
      "text/plain": [
       "                                                  review   fresh\n",
       "0      A distinctly gallows take on contemporary fina...   fresh\n",
       "1      It's an allegory in search of a meaning that n...  rotten\n",
       "2      ... life lived in a bubble in financial dealin...   fresh\n",
       "3      Continuing along a line introduced in last yea...   fresh\n",
       "4                 ... a perverse twist on neorealism...    fresh\n",
       "54423          Despite the title, Wasabi isn't so spicy.  rotten\n",
       "54424  Dawdles and drags when it should pop; it doesn...  rotten\n",
       "54425  Despite Besson's high-profile name being Wasab...   fresh\n",
       "54426  The film lapses too often into sugary sentimen...  rotten\n",
       "54427  The real charm of this trifle is the deadpan c...   fresh"
      ]
     },
     "execution_count": 6,
     "metadata": {},
     "output_type": "execute_result"
    }
   ],
   "source": [
    "dataset = original_dataset[['review', 'fresh']].dropna().astype({'review' : 'object', 'fresh' : 'object'})\n",
    "pd.concat([dataset.head(5), dataset.tail(5)])"
   ]
  },
  {
   "cell_type": "markdown",
   "metadata": {},
   "source": [
    "### Analisi Esplorativa"
   ]
  },
  {
   "cell_type": "markdown",
   "metadata": {},
   "source": [
    "A questo punto, descriviamo i **dati principali** del dataset ottenuto."
   ]
  },
  {
   "cell_type": "code",
   "execution_count": 7,
   "metadata": {},
   "outputs": [
    {
     "data": {
      "text/html": [
       "<div>\n",
       "<style scoped>\n",
       "    .dataframe tbody tr th:only-of-type {\n",
       "        vertical-align: middle;\n",
       "    }\n",
       "\n",
       "    .dataframe tbody tr th {\n",
       "        vertical-align: top;\n",
       "    }\n",
       "\n",
       "    .dataframe thead th {\n",
       "        text-align: right;\n",
       "    }\n",
       "</style>\n",
       "<table border=\"1\" class=\"dataframe\">\n",
       "  <thead>\n",
       "    <tr style=\"text-align: right;\">\n",
       "      <th></th>\n",
       "      <th>review</th>\n",
       "      <th>fresh</th>\n",
       "    </tr>\n",
       "  </thead>\n",
       "  <tbody>\n",
       "    <tr>\n",
       "      <th>count</th>\n",
       "      <td>48867</td>\n",
       "      <td>48867</td>\n",
       "    </tr>\n",
       "    <tr>\n",
       "      <th>unique</th>\n",
       "      <td>48682</td>\n",
       "      <td>2</td>\n",
       "    </tr>\n",
       "    <tr>\n",
       "      <th>top</th>\n",
       "      <td>Parental Content Review</td>\n",
       "      <td>fresh</td>\n",
       "    </tr>\n",
       "    <tr>\n",
       "      <th>freq</th>\n",
       "      <td>24</td>\n",
       "      <td>29875</td>\n",
       "    </tr>\n",
       "  </tbody>\n",
       "</table>\n",
       "</div>"
      ],
      "text/plain": [
       "                         review  fresh\n",
       "count                     48867  48867\n",
       "unique                    48682      2\n",
       "top     Parental Content Review  fresh\n",
       "freq                         24  29875"
      ]
     },
     "execution_count": 7,
     "metadata": {},
     "output_type": "execute_result"
    }
   ],
   "source": [
    "dataset.describe()"
   ]
  },
  {
   "cell_type": "markdown",
   "metadata": {},
   "source": [
    "Facciamo poi un'**analisi delle variabili** necessarie per il training e il testing del sistema, in modo da capire se alcuni dati vanno scartati perché non disponibili e/o corrotti."
   ]
  },
  {
   "cell_type": "markdown",
   "metadata": {},
   "source": [
    "#### Analisi Giudizi"
   ]
  },
  {
   "cell_type": "code",
   "execution_count": 8,
   "metadata": {},
   "outputs": [
    {
     "data": {
      "text/plain": [
       "fresh     61.135326\n",
       "rotten    38.864674\n",
       "Name: fresh, dtype: float64"
      ]
     },
     "execution_count": 8,
     "metadata": {},
     "output_type": "execute_result"
    }
   ],
   "source": [
    "dataset['fresh'].value_counts(normalize = 'True') * 100"
   ]
  },
  {
   "cell_type": "code",
   "execution_count": 9,
   "metadata": {},
   "outputs": [
    {
     "data": {
      "text/plain": [
       "<matplotlib.axes._subplots.AxesSubplot at 0x209fbc9b080>"
      ]
     },
     "execution_count": 9,
     "metadata": {},
     "output_type": "execute_result"
    },
    {
     "data": {
      "image/png": "[encoded data removed]",
      "text/plain": [
       "<Figure size 432x288 with 1 Axes>"
      ]
     },
     "metadata": {},
     "output_type": "display_data"
    }
   ],
   "source": [
    "dataset['fresh'].value_counts().plot.pie()"
   ]
  },
  {
   "cell_type": "markdown",
   "metadata": {},
   "source": [
    "La maggior parte delle recensioni sono **positive**, cosa di cui bisognerà tenere conto nel momento in cui si va a validare il modello ottenuto."
   ]
  },
  {
   "cell_type": "markdown",
   "metadata": {},
   "source": [
    "#### Analisi Recensioni"
   ]
  },
  {
   "cell_type": "markdown",
   "metadata": {},
   "source": [
    "Come visto tramite l'analisi dei dati, alcune recensioni non contengono altro che la frase **Parental Content Review**. Risulta ammissibile, inoltre, che ci siano altre recensioni non significative, pertanto queste vanno cercate ed eliminate."
   ]
  },
  {
   "cell_type": "code",
   "execution_count": 10,
   "metadata": {},
   "outputs": [
    {
     "data": {
      "text/plain": [
       "Parental Content Review                 24\n",
       "full review at Movies for the Masses    15\n",
       "full review in Greek                     9\n",
       "Click to read review                     3\n",
       "click to read the full review            3\n",
       "Name: review, dtype: int64"
      ]
     },
     "execution_count": 10,
     "metadata": {},
     "output_type": "execute_result"
    }
   ],
   "source": [
    "values = dataset['review'].value_counts()\n",
    "values[values > 2]"
   ]
  },
  {
   "cell_type": "markdown",
   "metadata": {},
   "source": [
    "Dato che non contengono informazioni utili, queste recensioni andranno eliminate."
   ]
  },
  {
   "cell_type": "code",
   "execution_count": 11,
   "metadata": {},
   "outputs": [
    {
     "data": {
      "text/plain": [
       "(48541, 2)"
      ]
     },
     "execution_count": 11,
     "metadata": {},
     "output_type": "execute_result"
    }
   ],
   "source": [
    "dataset.drop_duplicates(subset = ['review'], keep = False, inplace = True)\n",
    "dataset.shape"
   ]
  },
  {
   "cell_type": "markdown",
   "metadata": {},
   "source": [
    "#### Dataset Finale"
   ]
  },
  {
   "cell_type": "markdown",
   "metadata": {},
   "source": [
    "Prima di costruire il dataset finale, effettuiamo un **reindexing** dei dati per comodità."
   ]
  },
  {
   "cell_type": "code",
   "execution_count": 12,
   "metadata": {},
   "outputs": [
    {
     "data": {
      "text/html": [
       "<div>\n",
       "<style scoped>\n",
       "    .dataframe tbody tr th:only-of-type {\n",
       "        vertical-align: middle;\n",
       "    }\n",
       "\n",
       "    .dataframe tbody tr th {\n",
       "        vertical-align: top;\n",
       "    }\n",
       "\n",
       "    .dataframe thead th {\n",
       "        text-align: right;\n",
       "    }\n",
       "</style>\n",
       "<table border=\"1\" class=\"dataframe\">\n",
       "  <thead>\n",
       "    <tr style=\"text-align: right;\">\n",
       "      <th></th>\n",
       "      <th>review</th>\n",
       "      <th>fresh</th>\n",
       "    </tr>\n",
       "  </thead>\n",
       "  <tbody>\n",
       "    <tr>\n",
       "      <th>0</th>\n",
       "      <td>A distinctly gallows take on contemporary fina...</td>\n",
       "      <td>fresh</td>\n",
       "    </tr>\n",
       "    <tr>\n",
       "      <th>1</th>\n",
       "      <td>It's an allegory in search of a meaning that n...</td>\n",
       "      <td>rotten</td>\n",
       "    </tr>\n",
       "    <tr>\n",
       "      <th>2</th>\n",
       "      <td>... life lived in a bubble in financial dealin...</td>\n",
       "      <td>fresh</td>\n",
       "    </tr>\n",
       "    <tr>\n",
       "      <th>3</th>\n",
       "      <td>Continuing along a line introduced in last yea...</td>\n",
       "      <td>fresh</td>\n",
       "    </tr>\n",
       "    <tr>\n",
       "      <th>4</th>\n",
       "      <td>... a perverse twist on neorealism...</td>\n",
       "      <td>fresh</td>\n",
       "    </tr>\n",
       "    <tr>\n",
       "      <th>48536</th>\n",
       "      <td>Despite the title, Wasabi isn't so spicy.</td>\n",
       "      <td>rotten</td>\n",
       "    </tr>\n",
       "    <tr>\n",
       "      <th>48537</th>\n",
       "      <td>Dawdles and drags when it should pop; it doesn...</td>\n",
       "      <td>rotten</td>\n",
       "    </tr>\n",
       "    <tr>\n",
       "      <th>48538</th>\n",
       "      <td>Despite Besson's high-profile name being Wasab...</td>\n",
       "      <td>fresh</td>\n",
       "    </tr>\n",
       "    <tr>\n",
       "      <th>48539</th>\n",
       "      <td>The film lapses too often into sugary sentimen...</td>\n",
       "      <td>rotten</td>\n",
       "    </tr>\n",
       "    <tr>\n",
       "      <th>48540</th>\n",
       "      <td>The real charm of this trifle is the deadpan c...</td>\n",
       "      <td>fresh</td>\n",
       "    </tr>\n",
       "  </tbody>\n",
       "</table>\n",
       "</div>"
      ],
      "text/plain": [
       "                                                  review   fresh\n",
       "0      A distinctly gallows take on contemporary fina...   fresh\n",
       "1      It's an allegory in search of a meaning that n...  rotten\n",
       "2      ... life lived in a bubble in financial dealin...   fresh\n",
       "3      Continuing along a line introduced in last yea...   fresh\n",
       "4                 ... a perverse twist on neorealism...    fresh\n",
       "48536          Despite the title, Wasabi isn't so spicy.  rotten\n",
       "48537  Dawdles and drags when it should pop; it doesn...  rotten\n",
       "48538  Despite Besson's high-profile name being Wasab...   fresh\n",
       "48539  The film lapses too often into sugary sentimen...  rotten\n",
       "48540  The real charm of this trifle is the deadpan c...   fresh"
      ]
     },
     "execution_count": 12,
     "metadata": {},
     "output_type": "execute_result"
    }
   ],
   "source": [
    "dataset.index = np.arange(0, dataset.index.size)\n",
    "pd.concat([dataset.head(5), dataset.tail(5)])"
   ]
  },
  {
   "cell_type": "markdown",
   "metadata": {},
   "source": [
    "Mappiamo infine la colonna **fresh** in una colonna booleana: quella sarà la variabile numerica da prevedere."
   ]
  },
  {
   "cell_type": "code",
   "execution_count": 13,
   "metadata": {},
   "outputs": [
    {
     "data": {
      "text/plain": [
       "dtype('bool')"
      ]
     },
     "execution_count": 13,
     "metadata": {},
     "output_type": "execute_result"
    }
   ],
   "source": [
    "dataset['fresh'] = dataset['fresh'] == 'fresh'\n",
    "dataset['fresh'].dtype"
   ]
  },
  {
   "cell_type": "markdown",
   "metadata": {},
   "source": [
    "Il **dataset finale** sarà quindi così strutturato:"
   ]
  },
  {
   "cell_type": "code",
   "execution_count": 14,
   "metadata": {},
   "outputs": [
    {
     "data": {
      "text/html": [
       "<div>\n",
       "<style scoped>\n",
       "    .dataframe tbody tr th:only-of-type {\n",
       "        vertical-align: middle;\n",
       "    }\n",
       "\n",
       "    .dataframe tbody tr th {\n",
       "        vertical-align: top;\n",
       "    }\n",
       "\n",
       "    .dataframe thead th {\n",
       "        text-align: right;\n",
       "    }\n",
       "</style>\n",
       "<table border=\"1\" class=\"dataframe\">\n",
       "  <thead>\n",
       "    <tr style=\"text-align: right;\">\n",
       "      <th></th>\n",
       "      <th>review</th>\n",
       "      <th>fresh</th>\n",
       "    </tr>\n",
       "  </thead>\n",
       "  <tbody>\n",
       "    <tr>\n",
       "      <th>0</th>\n",
       "      <td>A distinctly gallows take on contemporary fina...</td>\n",
       "      <td>True</td>\n",
       "    </tr>\n",
       "    <tr>\n",
       "      <th>1</th>\n",
       "      <td>It's an allegory in search of a meaning that n...</td>\n",
       "      <td>False</td>\n",
       "    </tr>\n",
       "    <tr>\n",
       "      <th>2</th>\n",
       "      <td>... life lived in a bubble in financial dealin...</td>\n",
       "      <td>True</td>\n",
       "    </tr>\n",
       "    <tr>\n",
       "      <th>3</th>\n",
       "      <td>Continuing along a line introduced in last yea...</td>\n",
       "      <td>True</td>\n",
       "    </tr>\n",
       "    <tr>\n",
       "      <th>4</th>\n",
       "      <td>... a perverse twist on neorealism...</td>\n",
       "      <td>True</td>\n",
       "    </tr>\n",
       "    <tr>\n",
       "      <th>48536</th>\n",
       "      <td>Despite the title, Wasabi isn't so spicy.</td>\n",
       "      <td>False</td>\n",
       "    </tr>\n",
       "    <tr>\n",
       "      <th>48537</th>\n",
       "      <td>Dawdles and drags when it should pop; it doesn...</td>\n",
       "      <td>False</td>\n",
       "    </tr>\n",
       "    <tr>\n",
       "      <th>48538</th>\n",
       "      <td>Despite Besson's high-profile name being Wasab...</td>\n",
       "      <td>True</td>\n",
       "    </tr>\n",
       "    <tr>\n",
       "      <th>48539</th>\n",
       "      <td>The film lapses too often into sugary sentimen...</td>\n",
       "      <td>False</td>\n",
       "    </tr>\n",
       "    <tr>\n",
       "      <th>48540</th>\n",
       "      <td>The real charm of this trifle is the deadpan c...</td>\n",
       "      <td>True</td>\n",
       "    </tr>\n",
       "  </tbody>\n",
       "</table>\n",
       "</div>"
      ],
      "text/plain": [
       "                                                  review  fresh\n",
       "0      A distinctly gallows take on contemporary fina...   True\n",
       "1      It's an allegory in search of a meaning that n...  False\n",
       "2      ... life lived in a bubble in financial dealin...   True\n",
       "3      Continuing along a line introduced in last yea...   True\n",
       "4                 ... a perverse twist on neorealism...    True\n",
       "48536          Despite the title, Wasabi isn't so spicy.  False\n",
       "48537  Dawdles and drags when it should pop; it doesn...  False\n",
       "48538  Despite Besson's high-profile name being Wasab...   True\n",
       "48539  The film lapses too often into sugary sentimen...  False\n",
       "48540  The real charm of this trifle is the deadpan c...   True"
      ]
     },
     "execution_count": 14,
     "metadata": {},
     "output_type": "execute_result"
    }
   ],
   "source": [
    "pd.concat([dataset.head(5), dataset.tail(5)])"
   ]
  },
  {
   "cell_type": "markdown",
   "metadata": {},
   "source": [
    "Ed avrà le seguenti caratteristiche:"
   ]
  },
  {
   "cell_type": "code",
   "execution_count": 15,
   "metadata": {},
   "outputs": [
    {
     "data": {
      "text/plain": [
       "(48541, 2)"
      ]
     },
     "execution_count": 15,
     "metadata": {},
     "output_type": "execute_result"
    }
   ],
   "source": [
    "dataset.shape"
   ]
  },
  {
   "cell_type": "code",
   "execution_count": 16,
   "metadata": {},
   "outputs": [
    {
     "data": {
      "text/html": [
       "<div>\n",
       "<style scoped>\n",
       "    .dataframe tbody tr th:only-of-type {\n",
       "        vertical-align: middle;\n",
       "    }\n",
       "\n",
       "    .dataframe tbody tr th {\n",
       "        vertical-align: top;\n",
       "    }\n",
       "\n",
       "    .dataframe thead th {\n",
       "        text-align: right;\n",
       "    }\n",
       "</style>\n",
       "<table border=\"1\" class=\"dataframe\">\n",
       "  <thead>\n",
       "    <tr style=\"text-align: right;\">\n",
       "      <th></th>\n",
       "      <th>review</th>\n",
       "      <th>fresh</th>\n",
       "    </tr>\n",
       "  </thead>\n",
       "  <tbody>\n",
       "    <tr>\n",
       "      <th>count</th>\n",
       "      <td>48541</td>\n",
       "      <td>48541</td>\n",
       "    </tr>\n",
       "    <tr>\n",
       "      <th>unique</th>\n",
       "      <td>48541</td>\n",
       "      <td>2</td>\n",
       "    </tr>\n",
       "    <tr>\n",
       "      <th>top</th>\n",
       "      <td>Thunderball, the biggest, most lavish, and lon...</td>\n",
       "      <td>True</td>\n",
       "    </tr>\n",
       "    <tr>\n",
       "      <th>freq</th>\n",
       "      <td>1</td>\n",
       "      <td>29738</td>\n",
       "    </tr>\n",
       "  </tbody>\n",
       "</table>\n",
       "</div>"
      ],
      "text/plain": [
       "                                                   review  fresh\n",
       "count                                               48541  48541\n",
       "unique                                              48541      2\n",
       "top     Thunderball, the biggest, most lavish, and lon...   True\n",
       "freq                                                    1  29738"
      ]
     },
     "execution_count": 16,
     "metadata": {},
     "output_type": "execute_result"
    }
   ],
   "source": [
    "dataset.describe()"
   ]
  },
  {
   "cell_type": "markdown",
   "metadata": {},
   "source": [
    "## 3/4. Generazione e Validazione di Modelli Differenti"
   ]
  },
  {
   "cell_type": "markdown",
   "metadata": {},
   "source": [
    "### Divisione in Traning Set e Test Set"
   ]
  },
  {
   "cell_type": "markdown",
   "metadata": {},
   "source": [
    "Come da pratica generale, il **test set** corrisponde al 30% dell'intero data set, mentre il 70% viene lasciato per il **training**."
   ]
  },
  {
   "cell_type": "code",
   "execution_count": 17,
   "metadata": {},
   "outputs": [],
   "source": [
    "from sklearn.model_selection import train_test_split\n",
    "trainset, testset = train_test_split(dataset, test_size = 0.3, random_state = 0)"
   ]
  },
  {
   "cell_type": "code",
   "execution_count": 18,
   "metadata": {},
   "outputs": [
    {
     "data": {
      "text/html": [
       "<div>\n",
       "<style scoped>\n",
       "    .dataframe tbody tr th:only-of-type {\n",
       "        vertical-align: middle;\n",
       "    }\n",
       "\n",
       "    .dataframe tbody tr th {\n",
       "        vertical-align: top;\n",
       "    }\n",
       "\n",
       "    .dataframe thead th {\n",
       "        text-align: right;\n",
       "    }\n",
       "</style>\n",
       "<table border=\"1\" class=\"dataframe\">\n",
       "  <thead>\n",
       "    <tr style=\"text-align: right;\">\n",
       "      <th></th>\n",
       "      <th>review</th>\n",
       "      <th>fresh</th>\n",
       "    </tr>\n",
       "  </thead>\n",
       "  <tbody>\n",
       "    <tr>\n",
       "      <th>26829</th>\n",
       "      <td>A sprawling, melancholy epic anti-Western.</td>\n",
       "      <td>True</td>\n",
       "    </tr>\n",
       "    <tr>\n",
       "      <th>31370</th>\n",
       "      <td>The script for this comedy is so half-baked th...</td>\n",
       "      <td>False</td>\n",
       "    </tr>\n",
       "    <tr>\n",
       "      <th>15670</th>\n",
       "      <td>A bold and rousing historical epic.</td>\n",
       "      <td>True</td>\n",
       "    </tr>\n",
       "    <tr>\n",
       "      <th>21106</th>\n",
       "      <td>Russell is obviously working out his considera...</td>\n",
       "      <td>False</td>\n",
       "    </tr>\n",
       "    <tr>\n",
       "      <th>5188</th>\n",
       "      <td>The result is a film that lacks the coherence,...</td>\n",
       "      <td>False</td>\n",
       "    </tr>\n",
       "  </tbody>\n",
       "</table>\n",
       "</div>"
      ],
      "text/plain": [
       "                                                  review  fresh\n",
       "26829         A sprawling, melancholy epic anti-Western.   True\n",
       "31370  The script for this comedy is so half-baked th...  False\n",
       "15670                A bold and rousing historical epic.   True\n",
       "21106  Russell is obviously working out his considera...  False\n",
       "5188   The result is a film that lacks the coherence,...  False"
      ]
     },
     "execution_count": 18,
     "metadata": {},
     "output_type": "execute_result"
    }
   ],
   "source": [
    "trainset.head()"
   ]
  },
  {
   "cell_type": "code",
   "execution_count": 19,
   "metadata": {},
   "outputs": [
    {
     "data": {
      "text/html": [
       "<div>\n",
       "<style scoped>\n",
       "    .dataframe tbody tr th:only-of-type {\n",
       "        vertical-align: middle;\n",
       "    }\n",
       "\n",
       "    .dataframe tbody tr th {\n",
       "        vertical-align: top;\n",
       "    }\n",
       "\n",
       "    .dataframe thead th {\n",
       "        text-align: right;\n",
       "    }\n",
       "</style>\n",
       "<table border=\"1\" class=\"dataframe\">\n",
       "  <thead>\n",
       "    <tr style=\"text-align: right;\">\n",
       "      <th></th>\n",
       "      <th>review</th>\n",
       "      <th>fresh</th>\n",
       "    </tr>\n",
       "  </thead>\n",
       "  <tbody>\n",
       "    <tr>\n",
       "      <th>36388</th>\n",
       "      <td>It is like Winnie the Pooh: it might be of Ver...</td>\n",
       "      <td>True</td>\n",
       "    </tr>\n",
       "    <tr>\n",
       "      <th>26974</th>\n",
       "      <td>The story's strong point isn't psychological d...</td>\n",
       "      <td>True</td>\n",
       "    </tr>\n",
       "    <tr>\n",
       "      <th>12789</th>\n",
       "      <td>Chappaquiddick\" is exactly what you want it to...</td>\n",
       "      <td>True</td>\n",
       "    </tr>\n",
       "    <tr>\n",
       "      <th>7999</th>\n",
       "      <td>Life, death, the beyond... Ah, the beyond. Suc...</td>\n",
       "      <td>False</td>\n",
       "    </tr>\n",
       "    <tr>\n",
       "      <th>8668</th>\n",
       "      <td>The story bungles ahead pointlessly, mixing me...</td>\n",
       "      <td>False</td>\n",
       "    </tr>\n",
       "  </tbody>\n",
       "</table>\n",
       "</div>"
      ],
      "text/plain": [
       "                                                  review  fresh\n",
       "36388  It is like Winnie the Pooh: it might be of Ver...   True\n",
       "26974  The story's strong point isn't psychological d...   True\n",
       "12789  Chappaquiddick\" is exactly what you want it to...   True\n",
       "7999   Life, death, the beyond... Ah, the beyond. Suc...  False\n",
       "8668   The story bungles ahead pointlessly, mixing me...  False"
      ]
     },
     "execution_count": 19,
     "metadata": {},
     "output_type": "execute_result"
    }
   ],
   "source": [
    "testset.head()"
   ]
  },
  {
   "cell_type": "markdown",
   "metadata": {},
   "source": [
    "### Importazione Features"
   ]
  },
  {
   "cell_type": "markdown",
   "metadata": {},
   "source": [
    "Come prima cosa bisogna importare le **features** necessarie dalla libreria **sklearn**:"
   ]
  },
  {
   "cell_type": "code",
   "execution_count": 20,
   "metadata": {},
   "outputs": [
    {
     "name": "stderr",
     "output_type": "stream",
     "text": [
      "[nltk_data] Downloading package punkt to\n",
      "[nltk_data]     C:\\Users\\Luke\\AppData\\Roaming\\nltk_data...\n",
      "[nltk_data]   Package punkt is already up-to-date!\n",
      "[nltk_data] Downloading package stopwords to\n",
      "[nltk_data]     C:\\Users\\Luke\\AppData\\Roaming\\nltk_data...\n",
      "[nltk_data]   Package stopwords is already up-to-date!\n",
      "[nltk_data] Downloading package averaged_perceptron_tagger to\n",
      "[nltk_data]     C:\\Users\\Luke\\AppData\\Roaming\\nltk_data...\n",
      "[nltk_data]   Package averaged_perceptron_tagger is already up-to-\n",
      "[nltk_data]       date!\n",
      "[nltk_data] Downloading package wordnet to\n",
      "[nltk_data]     C:\\Users\\Luke\\AppData\\Roaming\\nltk_data...\n",
      "[nltk_data]   Package wordnet is already up-to-date!\n"
     ]
    }
   ],
   "source": [
    "from sklearn.feature_extraction.text import CountVectorizer\n",
    "from sklearn.feature_extraction.text import TfidfVectorizer\n",
    "from sklearn.linear_model import LogisticRegression\n",
    "from sklearn.svm import SVC\n",
    "from sklearn.pipeline import Pipeline\n",
    "from sklearn.model_selection import GridSearchCV\n",
    "from sklearn.model_selection import KFold\n",
    "\n",
    "nltk.download('punkt')\n",
    "nltk.download('stopwords')\n",
    "nltk.download('averaged_perceptron_tagger')\n",
    "nltk.download('wordnet')\n",
    "\n",
    "stopwords = nltk.corpus.stopwords.words('english')\n",
    "lemmatizer = nltk.stem.WordNetLemmatizer()\n",
    "pos_dictionary = {'N': 'n', 'V': 'v', 'J': 'a', 'R': 'r'}\n",
    "\n",
    "def tokenize(sentence):\n",
    "    return [lemmatizer.lemmatize(word, pos_dictionary.get(pos[0], 'a'))\n",
    "            for word, pos in\n",
    "            nltk.pos_tag(list(filter(lambda s: s not in stopwords,\n",
    "                                     list(map(lambda s: s.lower(),\n",
    "                                              nltk.tokenize.word_tokenize(sentence))))))]"
   ]
  },
  {
   "cell_type": "markdown",
   "metadata": {},
   "source": [
    "### Scelta del Modello"
   ]
  },
  {
   "cell_type": "markdown",
   "metadata": {},
   "source": [
    "A questo punto non rimane che **scegliere il modello migliore** e addestrarlo.\n",
    "\n",
    "Per fare ciò, si sono susseguite delle **iterazioni** utili alla scelta degli **iperparametri** e degli **algoritmi da utilizzare**.\n",
    "\n",
    "Di seguito sono quindi elencati i passaggi eseguiti durante le varie iterazioni, le quali hanno generato modelli con **score differenti** e tra i quali è stato possibile scegliere il migliore dopo aver identificato dei trend che indicavano il settaggio più adeguato.\n",
    "\n",
    "Il **punteggio** ottenuto dai vari modelli è stato calcolato, in ogni iterazione, tramite il seguente validatore:"
   ]
  },
  {
   "cell_type": "code",
   "execution_count": 21,
   "metadata": {},
   "outputs": [],
   "source": [
    "validator = KFold(n_splits = 10)"
   ]
  },
  {
   "cell_type": "markdown",
   "metadata": {},
   "source": [
    "Il quale è stato passato, insieme al **modello** e alla **griglia**, come parametro dell'oggetto *GridSearchCV*"
   ]
  },
  {
   "cell_type": "markdown",
   "metadata": {},
   "source": [
    "#### Prima Iterazione"
   ]
  },
  {
   "cell_type": "markdown",
   "metadata": {},
   "source": [
    "Inizialmente, si è utilizzato un **CountVectorizer** e un classificatore di tipo **LogisticRegression** utilizzante l'algoritmo **liblinear**:"
   ]
  },
  {
   "cell_type": "code",
   "execution_count": 22,
   "metadata": {},
   "outputs": [],
   "source": [
    "first_model = model = Pipeline([\n",
    "    ('vectorizer', CountVectorizer(stop_words = 'english')),\n",
    "    ('classifier', LogisticRegression(solver = 'liblinear'))\n",
    "])"
   ]
  },
  {
   "cell_type": "markdown",
   "metadata": {},
   "source": [
    "La griglia di iperparametri è stata impostata come segue:"
   ]
  },
  {
   "cell_type": "code",
   "execution_count": 23,
   "metadata": {},
   "outputs": [],
   "source": [
    "first_grid = {\n",
    "    'vectorizer__min_df': [1, 3, 10],\n",
    "    'vectorizer__max_df': [0.8, 0.9, 1.0],\n",
    "    'vectorizer__ngram_range': [(1, 1), (1, 2), (1, 3)],\n",
    "    'classifier__penalty': ['l1', 'l2'],\n",
    "    'classifier__C': np.logspace(-2, 2, 3)\n",
    "}"
   ]
  },
  {
   "cell_type": "markdown",
   "metadata": {},
   "source": [
    "Riasumendo, questi sono i risultati ottenuti:\n",
    "- **miglior configurazione**: {'classifier__C': 1.0, 'classifier__penalty': 'l2', 'vectorizer__max_df': 1.0, 'vectorizer__min_df': 1, 'vectorizer__ngram_range': (1, 1)}\n",
    "- **score**: 0.7720\n",
    "- **dettagli sulle altre configurazioni**: in tutte le configurazioni migliori, il valore di C era 1.0 e la penalty di tipo l2, mentre né l'utilizzo di ngram né un basso max_df hanno influito particolarmente, per cui si è scelta la configurazione (1, 1) e 0.8 perché più veloce; al contrario, con un basso min_df lo score si è dimostrato notevolmente migliore"
   ]
  },
  {
   "cell_type": "markdown",
   "metadata": {},
   "source": [
    "#### Seconda Iterazione"
   ]
  },
  {
   "cell_type": "markdown",
   "metadata": {},
   "source": [
    "Utilizzando i dati precedentemente acquisiti, si è fatta un'analisi su **altri algormitmi**.\n",
    "\n",
    "Il modello è rimasto lo stesso, ma griglia di iperparametri è stata costruita nel seguente modo:"
   ]
  },
  {
   "cell_type": "code",
   "execution_count": 24,
   "metadata": {},
   "outputs": [],
   "source": [
    "second_grid = {\n",
    "    'vectorizer__max_df': [0.8, 0.9, 1.0],\n",
    "    'classifier__solver': ['newton-cg', 'lbfgs', 'liblinear', 'sag', 'saga'],\n",
    "    'classifier__C': np.logspace(-2, 2, 3)\n",
    "}"
   ]
  },
  {
   "cell_type": "markdown",
   "metadata": {},
   "source": [
    "I risultati ottenuti sono molto simili a quelli dell'iterazione precedente, e mostrano come i due algoritmi che permettono di ottenere una confidenza maggiore sono *newton-cg* e *liblinear*.\n",
    "Per tentare di migliorare ulteriormente il modello, infine, sono stati aggiunti altri elementi quali un **Tfidf Vectorizer** con custom tokenization che tiene conto della **Part of Speech** e della **lemmatizzazione**."
   ]
  },
  {
   "cell_type": "markdown",
   "metadata": {},
   "source": [
    "#### Terza Iterazione"
   ]
  },
  {
   "cell_type": "markdown",
   "metadata": {},
   "source": [
    "Nella terza iterazione, si sono introdotte ulteriori metodi sperando che lo score potesse aumentare.\n",
    "\n",
    "A tale scopo, è stata usata anche la funzione *tokenize* precedentemente definita, allo scopo di considerare soltanto le parole utili."
   ]
  },
  {
   "cell_type": "markdown",
   "metadata": {},
   "source": [
    "Il modello utilizzato è stato quindi:"
   ]
  },
  {
   "cell_type": "code",
   "execution_count": 25,
   "metadata": {},
   "outputs": [],
   "source": [
    "third_model = Pipeline([\n",
    "    ('vectorizer', TfidfVectorizer()),\n",
    "    ('classifier', LogisticRegression())\n",
    "])"
   ]
  },
  {
   "cell_type": "markdown",
   "metadata": {},
   "source": [
    "Mentre la griglia di iperparametri su cui basare il modello è stata così costruita:"
   ]
  },
  {
   "cell_type": "code",
   "execution_count": 26,
   "metadata": {},
   "outputs": [],
   "source": [
    "third_grid = {\n",
    "    'vectorizer__tokenizer': [None, tokenize],\n",
    "    'vectorizer__max_df': [0.8, 0.9],\n",
    "    'classifier__solver': ['newton-cg', 'liblinear'],\n",
    "    'classifier__C': np.logspace(-4, -4, 5)\n",
    "}"
   ]
  },
  {
   "cell_type": "markdown",
   "metadata": {},
   "source": [
    "Il **punteggio ottenuto** non si è rivelato soltanto di poco superiore a quello delle precedenti iterazioni.\n",
    "\n",
    "Nel modello finale, tuttavia, si è scelto di usare un *TfidfVectorizer* perché, seppur non aumentando di troppo lo score, i punteggi assegnati alle parole sembrano adatti a qualsiasi tipo di recensione, mentre utilizzando il *CountVectorizer* alcune parole con punteggio estremamente alto/basso non sembravano avere significato generale ma soltanto nel dataset ottenuto."
   ]
  },
  {
   "cell_type": "markdown",
   "metadata": {},
   "source": [
    "#### Quarta Iterazione"
   ]
  },
  {
   "cell_type": "markdown",
   "metadata": {},
   "source": [
    "Infine, si è tentato di cambiare modello di classificazione e utilizzare una **Support Vector Machine** per capire se, utiilizzando una separazione non lineare dei dati, si sarebbe potuto ottenere un risultato migliore.\n",
    "\n",
    "Come modello dei dati, quindi, si è usato questo:"
   ]
  },
  {
   "cell_type": "code",
   "execution_count": 27,
   "metadata": {},
   "outputs": [],
   "source": [
    "fourth_model = Pipeline([\n",
    "    ('vectorizer', TfidfVectorizer(tokenizer = tokenize, max_df = 0.8)),\n",
    "    ('classifier', SVC())\n",
    "])"
   ]
  },
  {
   "cell_type": "markdown",
   "metadata": {},
   "source": [
    "Mentre sono state provate le combinazioni di iperparametri presenti in questa griglia:"
   ]
  },
  {
   "cell_type": "code",
   "execution_count": 28,
   "metadata": {},
   "outputs": [],
   "source": [
    "fourth_grid = {\n",
    "    'classifier__solver': ['linear', 'poly', 'rbf', 'sigmoid', 'precomputed'],\n",
    "    'classifier__C': np.logspace(-2, -2, 3)\n",
    "}"
   ]
  },
  {
   "cell_type": "markdown",
   "metadata": {},
   "source": [
    "Il risultato ottenuto si è dimostrato in linea con quelli ottenuti in precedenza, con uno **score** che nei migliori casi si aggira intorno al **77%**, e ha favorito il kernel di tipo **linear**, dimostrando che difficilmente sarà possibile ottenere risultati migliori su questo dataset.\n",
    "\n",
    "Come **modello finale dei dati**, pertanto, si è scelto di utilizzare quello ottenuto durante la terza iterazione."
   ]
  },
  {
   "cell_type": "markdown",
   "metadata": {},
   "source": [
    "## 5. Scelta del Modello Ottimo e Analisi del Risultato"
   ]
  },
  {
   "cell_type": "markdown",
   "metadata": {},
   "source": [
    "### Modello Ottimo"
   ]
  },
  {
   "cell_type": "markdown",
   "metadata": {},
   "source": [
    "Dalle tre iterazioni precedenti, il **modello ottimo** fra quelli indagati è risultato questo:"
   ]
  },
  {
   "cell_type": "code",
   "execution_count": 29,
   "metadata": {},
   "outputs": [],
   "source": [
    "model = Pipeline([\n",
    "    ('vectorizer', TfidfVectorizer(tokenizer = tokenize, max_df = 0.8)),\n",
    "    ('classifier', LogisticRegression(C = 1.0, penalty = 'l2', solver = 'liblinear'))\n",
    "])"
   ]
  },
  {
   "cell_type": "markdown",
   "metadata": {},
   "source": [
    "A questo punto, è quindi possibile **addestrare il modello** sui dati di training:"
   ]
  },
  {
   "cell_type": "code",
   "execution_count": 30,
   "metadata": {},
   "outputs": [
    {
     "data": {
      "text/plain": [
       "Pipeline(memory=None,\n",
       "     steps=[('vectorizer', TfidfVectorizer(analyzer='word', binary=False, decode_error='strict',\n",
       "        dtype=<class 'numpy.float64'>, encoding='utf-8', input='content',\n",
       "        lowercase=True, max_df=0.8, max_features=None, min_df=1,\n",
       "        ngram_range=(1, 1), norm='l2', preprocessor=None, smooth_idf=...ty='l2', random_state=None, solver='liblinear',\n",
       "          tol=0.0001, verbose=0, warm_start=False))])"
      ]
     },
     "execution_count": 30,
     "metadata": {},
     "output_type": "execute_result"
    }
   ],
   "source": [
    "model.fit(trainset['review'], trainset['fresh'])"
   ]
  },
  {
   "cell_type": "markdown",
   "metadata": {},
   "source": [
    "Per poi **validarlo** sui dati di testing:"
   ]
  },
  {
   "cell_type": "code",
   "execution_count": 31,
   "metadata": {},
   "outputs": [
    {
     "data": {
      "text/plain": [
       "0.772986335233125"
      ]
     },
     "execution_count": 31,
     "metadata": {},
     "output_type": "execute_result"
    }
   ],
   "source": [
    "model.score(testset['review'], testset['fresh'])"
   ]
  },
  {
   "cell_type": "markdown",
   "metadata": {},
   "source": [
    "Ottenendo uno score del **77.30%**"
   ]
  },
  {
   "cell_type": "markdown",
   "metadata": {},
   "source": [
    "#### Analisi delle Probabilità"
   ]
  },
  {
   "cell_type": "markdown",
   "metadata": {},
   "source": [
    "Creiamo un **checkset** che associa a ogni riga del testset il valore originale e quello predetto dal modello."
   ]
  },
  {
   "cell_type": "code",
   "execution_count": 32,
   "metadata": {},
   "outputs": [
    {
     "data": {
      "text/html": [
       "<div>\n",
       "<style scoped>\n",
       "    .dataframe tbody tr th:only-of-type {\n",
       "        vertical-align: middle;\n",
       "    }\n",
       "\n",
       "    .dataframe tbody tr th {\n",
       "        vertical-align: top;\n",
       "    }\n",
       "\n",
       "    .dataframe thead th {\n",
       "        text-align: right;\n",
       "    }\n",
       "</style>\n",
       "<table border=\"1\" class=\"dataframe\">\n",
       "  <thead>\n",
       "    <tr style=\"text-align: right;\">\n",
       "      <th></th>\n",
       "      <th>review</th>\n",
       "      <th>actual</th>\n",
       "      <th>predicted</th>\n",
       "      <th>hyperplane distance</th>\n",
       "      <th>fresh probability</th>\n",
       "      <th>rotten probability</th>\n",
       "    </tr>\n",
       "  </thead>\n",
       "  <tbody>\n",
       "    <tr>\n",
       "      <th>0</th>\n",
       "      <td>It is like Winnie the Pooh: it might be of Ver...</td>\n",
       "      <td>True</td>\n",
       "      <td>True</td>\n",
       "      <td>0.804448</td>\n",
       "      <td>0.690925</td>\n",
       "      <td>0.309075</td>\n",
       "    </tr>\n",
       "    <tr>\n",
       "      <th>1</th>\n",
       "      <td>The story's strong point isn't psychological d...</td>\n",
       "      <td>True</td>\n",
       "      <td>False</td>\n",
       "      <td>-0.113371</td>\n",
       "      <td>0.471687</td>\n",
       "      <td>0.528313</td>\n",
       "    </tr>\n",
       "    <tr>\n",
       "      <th>2</th>\n",
       "      <td>Chappaquiddick\" is exactly what you want it to...</td>\n",
       "      <td>True</td>\n",
       "      <td>True</td>\n",
       "      <td>0.787265</td>\n",
       "      <td>0.687244</td>\n",
       "      <td>0.312756</td>\n",
       "    </tr>\n",
       "    <tr>\n",
       "      <th>3</th>\n",
       "      <td>Life, death, the beyond... Ah, the beyond. Suc...</td>\n",
       "      <td>False</td>\n",
       "      <td>True</td>\n",
       "      <td>0.996858</td>\n",
       "      <td>0.730440</td>\n",
       "      <td>0.269560</td>\n",
       "    </tr>\n",
       "    <tr>\n",
       "      <th>4</th>\n",
       "      <td>The story bungles ahead pointlessly, mixing me...</td>\n",
       "      <td>False</td>\n",
       "      <td>False</td>\n",
       "      <td>-0.444620</td>\n",
       "      <td>0.390641</td>\n",
       "      <td>0.609359</td>\n",
       "    </tr>\n",
       "    <tr>\n",
       "      <th>14558</th>\n",
       "      <td>This movie has no focus, no point of view and ...</td>\n",
       "      <td>False</td>\n",
       "      <td>False</td>\n",
       "      <td>-1.894391</td>\n",
       "      <td>0.130745</td>\n",
       "      <td>0.869255</td>\n",
       "    </tr>\n",
       "    <tr>\n",
       "      <th>14559</th>\n",
       "      <td>The only noticeable Resident Evil on display h...</td>\n",
       "      <td>False</td>\n",
       "      <td>False</td>\n",
       "      <td>-0.538831</td>\n",
       "      <td>0.368460</td>\n",
       "      <td>0.631540</td>\n",
       "    </tr>\n",
       "    <tr>\n",
       "      <th>14560</th>\n",
       "      <td>Instead of gently skewering the conventions of...</td>\n",
       "      <td>False</td>\n",
       "      <td>False</td>\n",
       "      <td>-0.465478</td>\n",
       "      <td>0.385687</td>\n",
       "      <td>0.614313</td>\n",
       "    </tr>\n",
       "    <tr>\n",
       "      <th>14561</th>\n",
       "      <td>Smith carries it off with his effortless charm...</td>\n",
       "      <td>True</td>\n",
       "      <td>True</td>\n",
       "      <td>0.958294</td>\n",
       "      <td>0.722780</td>\n",
       "      <td>0.277220</td>\n",
       "    </tr>\n",
       "    <tr>\n",
       "      <th>14562</th>\n",
       "      <td>Cosmopolis may, like Packer's limo, be an elab...</td>\n",
       "      <td>True</td>\n",
       "      <td>True</td>\n",
       "      <td>1.002788</td>\n",
       "      <td>0.731606</td>\n",
       "      <td>0.268394</td>\n",
       "    </tr>\n",
       "  </tbody>\n",
       "</table>\n",
       "</div>"
      ],
      "text/plain": [
       "                                                  review  actual  predicted  \\\n",
       "0      It is like Winnie the Pooh: it might be of Ver...    True       True   \n",
       "1      The story's strong point isn't psychological d...    True      False   \n",
       "2      Chappaquiddick\" is exactly what you want it to...    True       True   \n",
       "3      Life, death, the beyond... Ah, the beyond. Suc...   False       True   \n",
       "4      The story bungles ahead pointlessly, mixing me...   False      False   \n",
       "14558  This movie has no focus, no point of view and ...   False      False   \n",
       "14559  The only noticeable Resident Evil on display h...   False      False   \n",
       "14560  Instead of gently skewering the conventions of...   False      False   \n",
       "14561  Smith carries it off with his effortless charm...    True       True   \n",
       "14562  Cosmopolis may, like Packer's limo, be an elab...    True       True   \n",
       "\n",
       "       hyperplane distance  fresh probability  rotten probability  \n",
       "0                 0.804448           0.690925            0.309075  \n",
       "1                -0.113371           0.471687            0.528313  \n",
       "2                 0.787265           0.687244            0.312756  \n",
       "3                 0.996858           0.730440            0.269560  \n",
       "4                -0.444620           0.390641            0.609359  \n",
       "14558            -1.894391           0.130745            0.869255  \n",
       "14559            -0.538831           0.368460            0.631540  \n",
       "14560            -0.465478           0.385687            0.614313  \n",
       "14561             0.958294           0.722780            0.277220  \n",
       "14562             1.002788           0.731606            0.268394  "
      ]
     },
     "execution_count": 32,
     "metadata": {},
     "output_type": "execute_result"
    }
   ],
   "source": [
    "checkset = testset.rename(columns = {'fresh': 'actual'})\n",
    "checkset['predicted'] = model.predict(testset['review'])\n",
    "checkset['hyperplane distance'] = model.decision_function(testset['review'])\n",
    "\n",
    "probs = model.predict_proba(testset['review'])\n",
    "checkset['fresh probability'] = probs[:, 1]\n",
    "checkset['rotten probability'] = probs[:, 0]\n",
    "\n",
    "checkset.index = np.arange(0, checkset.index.size)\n",
    "pd.concat([checkset.head(5), checkset.tail(5)])"
   ]
  },
  {
   "cell_type": "markdown",
   "metadata": {},
   "source": [
    "**Recensione con Maggior Probabilità Positiva**"
   ]
  },
  {
   "cell_type": "code",
   "execution_count": 33,
   "metadata": {},
   "outputs": [
    {
     "data": {
      "text/plain": [
       "\"Fincher's achievement is, in both quality and spirit, a film of great beauty, and it touched me deeply.\""
      ]
     },
     "execution_count": 33,
     "metadata": {},
     "output_type": "execute_result"
    }
   ],
   "source": [
    "row = checkset[checkset['fresh probability'] == [checkset['fresh probability'].max()]]\n",
    "row.iloc[0]['review']"
   ]
  },
  {
   "cell_type": "code",
   "execution_count": 34,
   "metadata": {},
   "outputs": [
    {
     "data": {
      "text/html": [
       "<div>\n",
       "<style scoped>\n",
       "    .dataframe tbody tr th:only-of-type {\n",
       "        vertical-align: middle;\n",
       "    }\n",
       "\n",
       "    .dataframe tbody tr th {\n",
       "        vertical-align: top;\n",
       "    }\n",
       "\n",
       "    .dataframe thead th {\n",
       "        text-align: right;\n",
       "    }\n",
       "</style>\n",
       "<table border=\"1\" class=\"dataframe\">\n",
       "  <thead>\n",
       "    <tr style=\"text-align: right;\">\n",
       "      <th></th>\n",
       "      <th>actual</th>\n",
       "      <th>predicted</th>\n",
       "      <th>hyperplane distance</th>\n",
       "      <th>fresh probability</th>\n",
       "      <th>rotten probability</th>\n",
       "    </tr>\n",
       "  </thead>\n",
       "  <tbody>\n",
       "    <tr>\n",
       "      <th>8542</th>\n",
       "      <td>True</td>\n",
       "      <td>True</td>\n",
       "      <td>5.427516</td>\n",
       "      <td>0.995625</td>\n",
       "      <td>0.004375</td>\n",
       "    </tr>\n",
       "  </tbody>\n",
       "</table>\n",
       "</div>"
      ],
      "text/plain": [
       "      actual  predicted  hyperplane distance  fresh probability  \\\n",
       "8542    True       True             5.427516           0.995625   \n",
       "\n",
       "      rotten probability  \n",
       "8542            0.004375  "
      ]
     },
     "execution_count": 34,
     "metadata": {},
     "output_type": "execute_result"
    }
   ],
   "source": [
    "row[['actual', 'predicted', 'hyperplane distance', 'fresh probability', 'rotten probability']]"
   ]
  },
  {
   "cell_type": "markdown",
   "metadata": {},
   "source": [
    "**Recensione con Maggior Probabilità Negativa**"
   ]
  },
  {
   "cell_type": "code",
   "execution_count": 35,
   "metadata": {},
   "outputs": [
    {
     "data": {
      "text/plain": [
       "\"You wouldn't think a movie with this much plot could be this dull, but you'd be wrong.\""
      ]
     },
     "execution_count": 35,
     "metadata": {},
     "output_type": "execute_result"
    }
   ],
   "source": [
    "row = checkset[checkset['rotten probability'] == [checkset['rotten probability'].max()]]\n",
    "row.iloc[0]['review']"
   ]
  },
  {
   "cell_type": "code",
   "execution_count": 36,
   "metadata": {},
   "outputs": [
    {
     "data": {
      "text/html": [
       "<div>\n",
       "<style scoped>\n",
       "    .dataframe tbody tr th:only-of-type {\n",
       "        vertical-align: middle;\n",
       "    }\n",
       "\n",
       "    .dataframe tbody tr th {\n",
       "        vertical-align: top;\n",
       "    }\n",
       "\n",
       "    .dataframe thead th {\n",
       "        text-align: right;\n",
       "    }\n",
       "</style>\n",
       "<table border=\"1\" class=\"dataframe\">\n",
       "  <thead>\n",
       "    <tr style=\"text-align: right;\">\n",
       "      <th></th>\n",
       "      <th>actual</th>\n",
       "      <th>predicted</th>\n",
       "      <th>hyperplane distance</th>\n",
       "      <th>fresh probability</th>\n",
       "      <th>rotten probability</th>\n",
       "    </tr>\n",
       "  </thead>\n",
       "  <tbody>\n",
       "    <tr>\n",
       "      <th>11289</th>\n",
       "      <td>False</td>\n",
       "      <td>False</td>\n",
       "      <td>-4.89482</td>\n",
       "      <td>0.00743</td>\n",
       "      <td>0.99257</td>\n",
       "    </tr>\n",
       "  </tbody>\n",
       "</table>\n",
       "</div>"
      ],
      "text/plain": [
       "       actual  predicted  hyperplane distance  fresh probability  \\\n",
       "11289   False      False             -4.89482            0.00743   \n",
       "\n",
       "       rotten probability  \n",
       "11289             0.99257  "
      ]
     },
     "execution_count": 36,
     "metadata": {},
     "output_type": "execute_result"
    }
   ],
   "source": [
    "row[['actual', 'predicted', 'hyperplane distance', 'fresh probability', 'rotten probability']]"
   ]
  },
  {
   "cell_type": "markdown",
   "metadata": {},
   "source": [
    "#### Matrice di Confusione"
   ]
  },
  {
   "cell_type": "markdown",
   "metadata": {},
   "source": [
    "Di seguito viene mostrata la **matrice di confusione** del modello ottenuto e i vari valori interessanti ricavabili da essa."
   ]
  },
  {
   "cell_type": "code",
   "execution_count": 37,
   "metadata": {},
   "outputs": [
    {
     "data": {
      "text/html": [
       "<div>\n",
       "<style scoped>\n",
       "    .dataframe tbody tr th:only-of-type {\n",
       "        vertical-align: middle;\n",
       "    }\n",
       "\n",
       "    .dataframe tbody tr th {\n",
       "        vertical-align: top;\n",
       "    }\n",
       "\n",
       "    .dataframe thead th {\n",
       "        text-align: right;\n",
       "    }\n",
       "</style>\n",
       "<table border=\"1\" class=\"dataframe\">\n",
       "  <thead>\n",
       "    <tr style=\"text-align: right;\">\n",
       "      <th></th>\n",
       "      <th>Predicted Fresh</th>\n",
       "      <th>Predicted Rotten</th>\n",
       "    </tr>\n",
       "  </thead>\n",
       "  <tbody>\n",
       "    <tr>\n",
       "      <th>Actual Fresh</th>\n",
       "      <td>7832</td>\n",
       "      <td>1102</td>\n",
       "    </tr>\n",
       "    <tr>\n",
       "      <th>Actual Rotten</th>\n",
       "      <td>2204</td>\n",
       "      <td>3425</td>\n",
       "    </tr>\n",
       "  </tbody>\n",
       "</table>\n",
       "</div>"
      ],
      "text/plain": [
       "               Predicted Fresh  Predicted Rotten\n",
       "Actual Fresh              7832              1102\n",
       "Actual Rotten             2204              3425"
      ]
     },
     "execution_count": 37,
     "metadata": {},
     "output_type": "execute_result"
    }
   ],
   "source": [
    "tp = checkset[(checkset['actual'] == True) & (checkset['predicted'] == True)]\n",
    "tn = checkset[(checkset['actual'] == False) & (checkset['predicted'] == False)]\n",
    "fp = checkset[(checkset['actual'] == False) & (checkset['predicted'] == True)]\n",
    "fn = checkset[(checkset['actual'] == True) & (checkset['predicted'] == False)]\n",
    "\n",
    "tps = tp.index.size\n",
    "tns = tn.index.size\n",
    "fps = fp.index.size\n",
    "fns = fn.index.size\n",
    "\n",
    "pd.DataFrame(data = { 'Predicted Fresh' : [tps, fps], 'Predicted Rotten' : [fns, tns] },\n",
    "             index = ['Actual Fresh', 'Actual Rotten'])"
   ]
  },
  {
   "cell_type": "markdown",
   "metadata": {},
   "source": [
    "**Accuracy**"
   ]
  },
  {
   "cell_type": "code",
   "execution_count": 38,
   "metadata": {},
   "outputs": [
    {
     "data": {
      "text/plain": [
       "0.772986335233125"
      ]
     },
     "execution_count": 38,
     "metadata": {},
     "output_type": "execute_result"
    }
   ],
   "source": [
    "(tps + tns) / (tps + tns + fps + fns)"
   ]
  },
  {
   "cell_type": "markdown",
   "metadata": {},
   "source": [
    "**Precision & Recall**"
   ]
  },
  {
   "cell_type": "code",
   "execution_count": 39,
   "metadata": {},
   "outputs": [
    {
     "data": {
      "text/plain": [
       "0.7803905938620964"
      ]
     },
     "execution_count": 39,
     "metadata": {},
     "output_type": "execute_result"
    }
   ],
   "source": [
    "precision_fresh = tps / (tps + fps)\n",
    "precision_fresh"
   ]
  },
  {
   "cell_type": "code",
   "execution_count": 40,
   "metadata": {},
   "outputs": [
    {
     "data": {
      "text/plain": [
       "0.7565716810249613"
      ]
     },
     "execution_count": 40,
     "metadata": {},
     "output_type": "execute_result"
    }
   ],
   "source": [
    "precision_rotten = tns / (tns + fns)\n",
    "precision_rotten"
   ]
  },
  {
   "cell_type": "code",
   "execution_count": 41,
   "metadata": {},
   "outputs": [
    {
     "data": {
      "text/plain": [
       "0.8766509961943139"
      ]
     },
     "execution_count": 41,
     "metadata": {},
     "output_type": "execute_result"
    }
   ],
   "source": [
    "recall_fresh = tps / (tps + fns)\n",
    "recall_fresh"
   ]
  },
  {
   "cell_type": "code",
   "execution_count": 42,
   "metadata": {},
   "outputs": [
    {
     "data": {
      "text/plain": [
       "0.6084562089181027"
      ]
     },
     "execution_count": 42,
     "metadata": {},
     "output_type": "execute_result"
    }
   ],
   "source": [
    "recall_rotten = tns / (tns + fps)\n",
    "recall_rotten"
   ]
  },
  {
   "cell_type": "markdown",
   "metadata": {},
   "source": [
    "**F1 Measures**"
   ]
  },
  {
   "cell_type": "code",
   "execution_count": 43,
   "metadata": {},
   "outputs": [
    {
     "data": {
      "text/plain": [
       "0.825724828676858"
      ]
     },
     "execution_count": 43,
     "metadata": {},
     "output_type": "execute_result"
    }
   ],
   "source": [
    "f1_fresh = (2 * precision_fresh * recall_fresh) / (precision_fresh + recall_fresh)\n",
    "f1_fresh"
   ]
  },
  {
   "cell_type": "code",
   "execution_count": 44,
   "metadata": {},
   "outputs": [
    {
     "data": {
      "text/plain": [
       "0.6744781410003937"
      ]
     },
     "execution_count": 44,
     "metadata": {},
     "output_type": "execute_result"
    }
   ],
   "source": [
    "f1_rotten = (2 * precision_rotten * recall_rotten) / (precision_rotten + recall_rotten)\n",
    "f1_rotten"
   ]
  },
  {
   "cell_type": "markdown",
   "metadata": {},
   "source": [
    "#### Esempi di Previsioni Errate"
   ]
  },
  {
   "cell_type": "markdown",
   "metadata": {},
   "source": [
    "Al fine di indagare le cause delle previsioni errate, si mostrano **due esempi**, rispettivamente con errore più basso e più alto nelle probabiltà, di falsi positivi (recensioni etichettate come *fresh* che sono invece *rotten*) e di falsi negativi (recensioni etichettate come *rotten* che sono invece *fresh*)."
   ]
  },
  {
   "cell_type": "markdown",
   "metadata": {},
   "source": [
    "**Falsi Positivi**"
   ]
  },
  {
   "cell_type": "code",
   "execution_count": 45,
   "metadata": {},
   "outputs": [
    {
     "data": {
      "text/html": [
       "<div>\n",
       "<style scoped>\n",
       "    .dataframe tbody tr th:only-of-type {\n",
       "        vertical-align: middle;\n",
       "    }\n",
       "\n",
       "    .dataframe tbody tr th {\n",
       "        vertical-align: top;\n",
       "    }\n",
       "\n",
       "    .dataframe thead th {\n",
       "        text-align: right;\n",
       "    }\n",
       "</style>\n",
       "<table border=\"1\" class=\"dataframe\">\n",
       "  <thead>\n",
       "    <tr style=\"text-align: right;\">\n",
       "      <th></th>\n",
       "      <th>hyperplane distance</th>\n",
       "      <th>fresh probability</th>\n",
       "      <th>rotten probability</th>\n",
       "    </tr>\n",
       "  </thead>\n",
       "  <tbody>\n",
       "    <tr>\n",
       "      <th>count</th>\n",
       "      <td>2204.000000</td>\n",
       "      <td>2204.000000</td>\n",
       "      <td>2204.000000</td>\n",
       "    </tr>\n",
       "    <tr>\n",
       "      <th>mean</th>\n",
       "      <td>0.681288</td>\n",
       "      <td>0.652479</td>\n",
       "      <td>0.347521</td>\n",
       "    </tr>\n",
       "    <tr>\n",
       "      <th>std</th>\n",
       "      <td>0.547532</td>\n",
       "      <td>0.106123</td>\n",
       "      <td>0.106123</td>\n",
       "    </tr>\n",
       "    <tr>\n",
       "      <th>min</th>\n",
       "      <td>0.000258</td>\n",
       "      <td>0.500064</td>\n",
       "      <td>0.033481</td>\n",
       "    </tr>\n",
       "    <tr>\n",
       "      <th>25%</th>\n",
       "      <td>0.257508</td>\n",
       "      <td>0.564024</td>\n",
       "      <td>0.276237</td>\n",
       "    </tr>\n",
       "    <tr>\n",
       "      <th>50%</th>\n",
       "      <td>0.552950</td>\n",
       "      <td>0.634820</td>\n",
       "      <td>0.365180</td>\n",
       "    </tr>\n",
       "    <tr>\n",
       "      <th>75%</th>\n",
       "      <td>0.963206</td>\n",
       "      <td>0.723763</td>\n",
       "      <td>0.435976</td>\n",
       "    </tr>\n",
       "    <tr>\n",
       "      <th>max</th>\n",
       "      <td>3.362719</td>\n",
       "      <td>0.966519</td>\n",
       "      <td>0.499936</td>\n",
       "    </tr>\n",
       "  </tbody>\n",
       "</table>\n",
       "</div>"
      ],
      "text/plain": [
       "       hyperplane distance  fresh probability  rotten probability\n",
       "count          2204.000000        2204.000000         2204.000000\n",
       "mean              0.681288           0.652479            0.347521\n",
       "std               0.547532           0.106123            0.106123\n",
       "min               0.000258           0.500064            0.033481\n",
       "25%               0.257508           0.564024            0.276237\n",
       "50%               0.552950           0.634820            0.365180\n",
       "75%               0.963206           0.723763            0.435976\n",
       "max               3.362719           0.966519            0.499936"
      ]
     },
     "execution_count": 45,
     "metadata": {},
     "output_type": "execute_result"
    }
   ],
   "source": [
    "fp.describe()"
   ]
  },
  {
   "cell_type": "markdown",
   "metadata": {},
   "source": [
    "*Recensione con Errore Maggiore*"
   ]
  },
  {
   "cell_type": "code",
   "execution_count": 46,
   "metadata": {},
   "outputs": [
    {
     "data": {
      "text/plain": [
       "'It demands love, which is the best way not to get it.'"
      ]
     },
     "execution_count": 46,
     "metadata": {},
     "output_type": "execute_result"
    }
   ],
   "source": [
    "fp_highest_error = fp[fp['fresh probability'] == [fp['fresh probability'].max()]]\n",
    "fp_highest_error.iloc[0]['review']"
   ]
  },
  {
   "cell_type": "code",
   "execution_count": 47,
   "metadata": {},
   "outputs": [
    {
     "data": {
      "text/html": [
       "<div>\n",
       "<style scoped>\n",
       "    .dataframe tbody tr th:only-of-type {\n",
       "        vertical-align: middle;\n",
       "    }\n",
       "\n",
       "    .dataframe tbody tr th {\n",
       "        vertical-align: top;\n",
       "    }\n",
       "\n",
       "    .dataframe thead th {\n",
       "        text-align: right;\n",
       "    }\n",
       "</style>\n",
       "<table border=\"1\" class=\"dataframe\">\n",
       "  <thead>\n",
       "    <tr style=\"text-align: right;\">\n",
       "      <th></th>\n",
       "      <th>actual</th>\n",
       "      <th>predicted</th>\n",
       "      <th>hyperplane distance</th>\n",
       "      <th>fresh probability</th>\n",
       "      <th>rotten probability</th>\n",
       "    </tr>\n",
       "  </thead>\n",
       "  <tbody>\n",
       "    <tr>\n",
       "      <th>12531</th>\n",
       "      <td>False</td>\n",
       "      <td>True</td>\n",
       "      <td>3.362719</td>\n",
       "      <td>0.966519</td>\n",
       "      <td>0.033481</td>\n",
       "    </tr>\n",
       "  </tbody>\n",
       "</table>\n",
       "</div>"
      ],
      "text/plain": [
       "       actual  predicted  hyperplane distance  fresh probability  \\\n",
       "12531   False       True             3.362719           0.966519   \n",
       "\n",
       "       rotten probability  \n",
       "12531            0.033481  "
      ]
     },
     "execution_count": 47,
     "metadata": {},
     "output_type": "execute_result"
    }
   ],
   "source": [
    "fp_highest_error[['actual', 'predicted', 'hyperplane distance', 'fresh probability', 'rotten probability']]"
   ]
  },
  {
   "cell_type": "markdown",
   "metadata": {},
   "source": [
    "*Recensione con Errore Minore*"
   ]
  },
  {
   "cell_type": "code",
   "execution_count": 48,
   "metadata": {},
   "outputs": [
    {
     "data": {
      "text/plain": [
       "\"Paul Weitz's American Dreamz assembles a sumptuous buffet for the viewer, but since Weitz isn't hungry, he just stares at the spread, dumbly refusing to eat when really he should gorge.\""
      ]
     },
     "execution_count": 48,
     "metadata": {},
     "output_type": "execute_result"
    }
   ],
   "source": [
    "fp_lowest_error = fp[fp['fresh probability'] == [fp['fresh probability'].min()]]\n",
    "fp_lowest_error.iloc[0]['review']"
   ]
  },
  {
   "cell_type": "code",
   "execution_count": 49,
   "metadata": {},
   "outputs": [
    {
     "data": {
      "text/html": [
       "<div>\n",
       "<style scoped>\n",
       "    .dataframe tbody tr th:only-of-type {\n",
       "        vertical-align: middle;\n",
       "    }\n",
       "\n",
       "    .dataframe tbody tr th {\n",
       "        vertical-align: top;\n",
       "    }\n",
       "\n",
       "    .dataframe thead th {\n",
       "        text-align: right;\n",
       "    }\n",
       "</style>\n",
       "<table border=\"1\" class=\"dataframe\">\n",
       "  <thead>\n",
       "    <tr style=\"text-align: right;\">\n",
       "      <th></th>\n",
       "      <th>actual</th>\n",
       "      <th>predicted</th>\n",
       "      <th>hyperplane distance</th>\n",
       "      <th>fresh probability</th>\n",
       "      <th>rotten probability</th>\n",
       "    </tr>\n",
       "  </thead>\n",
       "  <tbody>\n",
       "    <tr>\n",
       "      <th>7698</th>\n",
       "      <td>False</td>\n",
       "      <td>True</td>\n",
       "      <td>0.000258</td>\n",
       "      <td>0.500064</td>\n",
       "      <td>0.499936</td>\n",
       "    </tr>\n",
       "  </tbody>\n",
       "</table>\n",
       "</div>"
      ],
      "text/plain": [
       "      actual  predicted  hyperplane distance  fresh probability  \\\n",
       "7698   False       True             0.000258           0.500064   \n",
       "\n",
       "      rotten probability  \n",
       "7698            0.499936  "
      ]
     },
     "execution_count": 49,
     "metadata": {},
     "output_type": "execute_result"
    }
   ],
   "source": [
    "fp_lowest_error[['actual', 'predicted', 'hyperplane distance', 'fresh probability', 'rotten probability']]"
   ]
  },
  {
   "cell_type": "markdown",
   "metadata": {},
   "source": [
    "**Falsi Negativi**"
   ]
  },
  {
   "cell_type": "code",
   "execution_count": 50,
   "metadata": {},
   "outputs": [
    {
     "data": {
      "text/html": [
       "<div>\n",
       "<style scoped>\n",
       "    .dataframe tbody tr th:only-of-type {\n",
       "        vertical-align: middle;\n",
       "    }\n",
       "\n",
       "    .dataframe tbody tr th {\n",
       "        vertical-align: top;\n",
       "    }\n",
       "\n",
       "    .dataframe thead th {\n",
       "        text-align: right;\n",
       "    }\n",
       "</style>\n",
       "<table border=\"1\" class=\"dataframe\">\n",
       "  <thead>\n",
       "    <tr style=\"text-align: right;\">\n",
       "      <th></th>\n",
       "      <th>hyperplane distance</th>\n",
       "      <th>fresh probability</th>\n",
       "      <th>rotten probability</th>\n",
       "    </tr>\n",
       "  </thead>\n",
       "  <tbody>\n",
       "    <tr>\n",
       "      <th>count</th>\n",
       "      <td>1102.000000</td>\n",
       "      <td>1102.000000</td>\n",
       "      <td>1102.000000</td>\n",
       "    </tr>\n",
       "    <tr>\n",
       "      <th>mean</th>\n",
       "      <td>-0.556208</td>\n",
       "      <td>0.373465</td>\n",
       "      <td>0.626535</td>\n",
       "    </tr>\n",
       "    <tr>\n",
       "      <th>std</th>\n",
       "      <td>0.501559</td>\n",
       "      <td>0.099603</td>\n",
       "      <td>0.099603</td>\n",
       "    </tr>\n",
       "    <tr>\n",
       "      <th>min</th>\n",
       "      <td>-3.363231</td>\n",
       "      <td>0.033465</td>\n",
       "      <td>0.500121</td>\n",
       "    </tr>\n",
       "    <tr>\n",
       "      <th>25%</th>\n",
       "      <td>-0.776936</td>\n",
       "      <td>0.314981</td>\n",
       "      <td>0.547921</td>\n",
       "    </tr>\n",
       "    <tr>\n",
       "      <th>50%</th>\n",
       "      <td>-0.419072</td>\n",
       "      <td>0.396739</td>\n",
       "      <td>0.603261</td>\n",
       "    </tr>\n",
       "    <tr>\n",
       "      <th>75%</th>\n",
       "      <td>-0.192273</td>\n",
       "      <td>0.452079</td>\n",
       "      <td>0.685019</td>\n",
       "    </tr>\n",
       "    <tr>\n",
       "      <th>max</th>\n",
       "      <td>-0.000486</td>\n",
       "      <td>0.499879</td>\n",
       "      <td>0.966535</td>\n",
       "    </tr>\n",
       "  </tbody>\n",
       "</table>\n",
       "</div>"
      ],
      "text/plain": [
       "       hyperplane distance  fresh probability  rotten probability\n",
       "count          1102.000000        1102.000000         1102.000000\n",
       "mean             -0.556208           0.373465            0.626535\n",
       "std               0.501559           0.099603            0.099603\n",
       "min              -3.363231           0.033465            0.500121\n",
       "25%              -0.776936           0.314981            0.547921\n",
       "50%              -0.419072           0.396739            0.603261\n",
       "75%              -0.192273           0.452079            0.685019\n",
       "max              -0.000486           0.499879            0.966535"
      ]
     },
     "execution_count": 50,
     "metadata": {},
     "output_type": "execute_result"
    }
   ],
   "source": [
    "fn.describe()"
   ]
  },
  {
   "cell_type": "markdown",
   "metadata": {},
   "source": [
    "*Recensione con Errore Maggiore*"
   ]
  },
  {
   "cell_type": "code",
   "execution_count": 51,
   "metadata": {},
   "outputs": [
    {
     "data": {
      "text/plain": [
       "'Depp and Jolie lack sparks, but The Tourist is a light little lark of a mystery-love story.'"
      ]
     },
     "execution_count": 51,
     "metadata": {},
     "output_type": "execute_result"
    }
   ],
   "source": [
    "fn_highest_error = fn[fn['rotten probability'] == [fn['rotten probability'].max()]]\n",
    "fn_highest_error.iloc[0]['review']"
   ]
  },
  {
   "cell_type": "code",
   "execution_count": 52,
   "metadata": {},
   "outputs": [
    {
     "data": {
      "text/html": [
       "<div>\n",
       "<style scoped>\n",
       "    .dataframe tbody tr th:only-of-type {\n",
       "        vertical-align: middle;\n",
       "    }\n",
       "\n",
       "    .dataframe tbody tr th {\n",
       "        vertical-align: top;\n",
       "    }\n",
       "\n",
       "    .dataframe thead th {\n",
       "        text-align: right;\n",
       "    }\n",
       "</style>\n",
       "<table border=\"1\" class=\"dataframe\">\n",
       "  <thead>\n",
       "    <tr style=\"text-align: right;\">\n",
       "      <th></th>\n",
       "      <th>actual</th>\n",
       "      <th>predicted</th>\n",
       "      <th>hyperplane distance</th>\n",
       "      <th>fresh probability</th>\n",
       "      <th>rotten probability</th>\n",
       "    </tr>\n",
       "  </thead>\n",
       "  <tbody>\n",
       "    <tr>\n",
       "      <th>9948</th>\n",
       "      <td>True</td>\n",
       "      <td>False</td>\n",
       "      <td>-3.363231</td>\n",
       "      <td>0.033465</td>\n",
       "      <td>0.966535</td>\n",
       "    </tr>\n",
       "  </tbody>\n",
       "</table>\n",
       "</div>"
      ],
      "text/plain": [
       "      actual  predicted  hyperplane distance  fresh probability  \\\n",
       "9948    True      False            -3.363231           0.033465   \n",
       "\n",
       "      rotten probability  \n",
       "9948            0.966535  "
      ]
     },
     "execution_count": 52,
     "metadata": {},
     "output_type": "execute_result"
    }
   ],
   "source": [
    "fn_highest_error[['actual', 'predicted', 'hyperplane distance', 'fresh probability', 'rotten probability']]"
   ]
  },
  {
   "cell_type": "markdown",
   "metadata": {},
   "source": [
    "*Recensione con Errore Minore*"
   ]
  },
  {
   "cell_type": "code",
   "execution_count": 53,
   "metadata": {},
   "outputs": [
    {
     "data": {
      "text/plain": [
       "'There are no wasted moments here. There are no wasted characters. The film is as much about Martin Luther King Jr. as it is about the people he worked with, and fought for.'"
      ]
     },
     "execution_count": 53,
     "metadata": {},
     "output_type": "execute_result"
    }
   ],
   "source": [
    "fn_lowest_error = fn[fn['rotten probability'] == [fn['rotten probability'].min()]]\n",
    "fn_lowest_error.iloc[0]['review']"
   ]
  },
  {
   "cell_type": "code",
   "execution_count": 54,
   "metadata": {},
   "outputs": [
    {
     "data": {
      "text/html": [
       "<div>\n",
       "<style scoped>\n",
       "    .dataframe tbody tr th:only-of-type {\n",
       "        vertical-align: middle;\n",
       "    }\n",
       "\n",
       "    .dataframe tbody tr th {\n",
       "        vertical-align: top;\n",
       "    }\n",
       "\n",
       "    .dataframe thead th {\n",
       "        text-align: right;\n",
       "    }\n",
       "</style>\n",
       "<table border=\"1\" class=\"dataframe\">\n",
       "  <thead>\n",
       "    <tr style=\"text-align: right;\">\n",
       "      <th></th>\n",
       "      <th>actual</th>\n",
       "      <th>predicted</th>\n",
       "      <th>hyperplane distance</th>\n",
       "      <th>fresh probability</th>\n",
       "      <th>rotten probability</th>\n",
       "    </tr>\n",
       "  </thead>\n",
       "  <tbody>\n",
       "    <tr>\n",
       "      <th>12293</th>\n",
       "      <td>True</td>\n",
       "      <td>False</td>\n",
       "      <td>-0.000486</td>\n",
       "      <td>0.499879</td>\n",
       "      <td>0.500121</td>\n",
       "    </tr>\n",
       "  </tbody>\n",
       "</table>\n",
       "</div>"
      ],
      "text/plain": [
       "       actual  predicted  hyperplane distance  fresh probability  \\\n",
       "12293    True      False            -0.000486           0.499879   \n",
       "\n",
       "       rotten probability  \n",
       "12293            0.500121  "
      ]
     },
     "execution_count": 54,
     "metadata": {},
     "output_type": "execute_result"
    }
   ],
   "source": [
    "fn_lowest_error[['actual', 'predicted', 'hyperplane distance', 'fresh probability', 'rotten probability']]"
   ]
  },
  {
   "cell_type": "markdown",
   "metadata": {},
   "source": [
    "**Considerazioni**\n",
    "\n",
    "Risulta chiaro che le recensioni etichettate in maniera errata sono perlopiù ambigue e/o contengono termini positivi negati (o viceversa), che il modello non riesce ad interpretare nel complesso."
   ]
  },
  {
   "cell_type": "markdown",
   "metadata": {},
   "source": [
    "#### Parole Con Coefficienti Più Alti"
   ]
  },
  {
   "cell_type": "markdown",
   "metadata": {},
   "source": [
    "In ultimo, vengono mostrate due liste di parole con i relativi coefficienti il cui peso incide sul valore positivo (*fresh*) o negativo (*rotten*) della recensione in base al segno del coefficiente stesso."
   ]
  },
  {
   "cell_type": "code",
   "execution_count": 55,
   "metadata": {},
   "outputs": [],
   "source": [
    "logistic_regression = model.named_steps['classifier']\n",
    "count_vectorizer = model.named_steps['vectorizer']\n",
    "coefs = pd.Series(logistic_regression.coef_[0], index = count_vectorizer.get_feature_names())\n",
    "coefs.sort_values(inplace = True)"
   ]
  },
  {
   "cell_type": "markdown",
   "metadata": {},
   "source": [
    "**Parole a Maggiore Incidenza Negativa**"
   ]
  },
  {
   "cell_type": "code",
   "execution_count": 56,
   "metadata": {},
   "outputs": [
    {
     "data": {
      "text/plain": [
       "lack            -4.110912\n",
       "unfortunately   -4.108123\n",
       "fail            -4.099627\n",
       "tedious         -4.099480\n",
       "bland           -3.871457\n",
       "dull            -3.852082\n",
       "bad             -3.742408\n",
       "misfire         -3.595049\n",
       "fails           -3.464217\n",
       "mess            -3.406680\n",
       "dtype: float64"
      ]
     },
     "execution_count": 56,
     "metadata": {},
     "output_type": "execute_result"
    }
   ],
   "source": [
    "coefs.head(10)"
   ]
  },
  {
   "cell_type": "markdown",
   "metadata": {},
   "source": [
    "**Parole a Maggiore Incidenza Positiva**"
   ]
  },
  {
   "cell_type": "code",
   "execution_count": 57,
   "metadata": {},
   "outputs": [
    {
     "data": {
      "text/plain": [
       "masterpiece    2.854368\n",
       "classic        2.867702\n",
       "rare           2.904831\n",
       "best           3.031230\n",
       "performance    3.036795\n",
       "entertain      3.133429\n",
       "powerful       3.184236\n",
       "perfect        3.266599\n",
       "enjoyable      3.432693\n",
       "fun            3.652566\n",
       "dtype: float64"
      ]
     },
     "execution_count": 57,
     "metadata": {},
     "output_type": "execute_result"
    }
   ],
   "source": [
    "coefs.tail(10)"
   ]
  },
  {
   "cell_type": "markdown",
   "metadata": {},
   "source": [
    "**Considerazioni**"
   ]
  },
  {
   "cell_type": "markdown",
   "metadata": {},
   "source": [
    "Come già spiegato durante il paragrafo sulla scelta del modello, si è preferito usare un *TfidVectorizer* piuttosto che un *CountVectorizer* proprio perché il primo ha prodotto una lista di parole a incidenza positiva/negativa coerenti con il linguaggio naturale, mentre il secondo ha prodotto anche parole che avrebbero permesso un ottimo score su questo dataset ma che non avevano alcuna incidenza positiva/negativa nel linguaggio naturale, quali ad esempio dei nomi propri di persone o città. "
   ]
  }
 ],
 "metadata": {
  "kernelspec": {
   "display_name": "Python 3",
   "language": "python",
   "name": "python3"
  },
  "language_info": {
   "codemirror_mode": {
    "name": "ipython",
    "version": 3
   },
   "file_extension": ".py",
   "mimetype": "text/x-python",
   "name": "python",
   "nbconvert_exporter": "python",
   "pygments_lexer": "ipython3",
   "version": "3.7.1"
  }
 },
 "nbformat": 4,
 "nbformat_minor": 2
}
